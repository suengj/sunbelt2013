{
 "cells": [
  {
   "cell_type": "markdown",
   "metadata": {},
   "source": [
    "### The Sunbet 2013 Data provided by [Pfeffer, Hollstein, and Skvoretz (2013)](http://insna.org/PDF/Connections/v34/vol34pfeffer1_web.pdf)\n",
    "#### 본 노트는 사회연결망 분석 Conference인 INSNA에서 제공한 Data set을 바탕으로 참가자들의 사회 연결망 및 이들의 연구의 Keywords와 Abstract에 대한 Text 분석을 목표로 하고 있습니다.  "
   ]
  },
  {
   "cell_type": "code",
   "execution_count": null,
   "metadata": {},
   "outputs": [],
   "source": [
    "library(xlsx)\n",
    "library(igraph)\n",
    "library(dplyr)\n",
    "library(Matrix)\n",
    "\n",
    "setwd(\"C:\\\\Users\\\\suengj\\\\Documents\\\\MEGA\\\\career\\\\data_repo\\\\insna\\\\2014_vol34\\\\dataset\")\n",
    "options(warn=-1)"
   ]
  },
  {
   "cell_type": "code",
   "execution_count": 2,
   "metadata": {},
   "outputs": [],
   "source": [
    "# read all sheets from excel file to all list (memory = 2.1mb)\n",
    "\n",
    "sunbelt <- list()\n",
    "for(i in 1:9){\n",
    "    sunbelt[[i]] <- read.xlsx(\"pfeffer_data.xlsx\", sheetIndex = i)\n",
    "}"
   ]
  },
  {
   "cell_type": "code",
   "execution_count": 3,
   "metadata": {},
   "outputs": [],
   "source": [
    "# how to delete NA.. variables? \n",
    "sunbelt[[1]] <- sunbelt[[1]][,c(1:11)]\n",
    "sunbelt[[6]] <- sunbelt[[6]][,c(1:3)]"
   ]
  },
  {
   "cell_type": "code",
   "execution_count": 4,
   "metadata": {},
   "outputs": [
    {
     "name": "stdout",
     "output_type": "stream",
     "text": [
      "'data.frame':\t768 obs. of  11 variables:\n",
      " $ ID               : num  2 5 6 7 8 9 15 17 18 23 ...\n",
      " $ Abstract.Title   : Factor w/ 656 levels \"\\\"Friendship\\\" Networks and Leadership in Online Social Movement Communities: A Comparison of Election Observer\"| __truncated__,..: 434 194 359 377 557 111 312 362 473 71 ...\n",
      " $ Authors          : Factor w/ 655 levels \"Ã–ztaÅŸ, Nail1, Kesgin, Selman S.2\",..: 289 598 293 487 131 275 263 597 601 185 ...\n",
      " $ Institutions     : Factor w/ 615 levels \"1Aarhus University, Aarhus, Denmark, 2Rutgers Business School, Newark, NJ, United States, 3Grenoble Ecole de Ma\"| __truncated__,..: 491 458 512 413 222 573 484 255 541 478 ...\n",
      " $ SESSION.NEW      : Factor w/ 74 levels \"2-Mode Networks\",..: 33 19 33 11 27 62 49 17 60 69 ...\n",
      " $ Anzahl           : num  15 17 15 6 15 11 6 6 4 6 ...\n",
      " $ Session.Organizer: Factor w/ 35 levels \"Ã–rjan Bodin\",..: 35 35 35 35 8 4 35 35 35 24 ...\n",
      " $ Country          : Factor w/ 45 levels \"Andorra\",\"Australia\",..: 15 45 45 45 23 15 15 45 36 6 ...\n",
      " $ Session.Title    : Factor w/ 127 levels \"2-Mode Networks: Culture & Health\",..: 61 31 62 19 45 106 92 27 104 117 ...\n",
      " $ Session.Code     : Factor w/ 127 levels \"fr-am-1/Lecture Hall A\",..: 92 94 64 26 79 96 57 114 51 21 ...\n",
      " $ Talk.Nr          : Factor w/ 6 levels \"1\",\"2\",\"3\",\"4\",..: 4 3 2 5 1 6 4 6 4 2 ...\n",
      "'data.frame':\t93 obs. of  5 variables:\n",
      " $ ID            : num  11 16 71 118 132 201 209 231 250 267 ...\n",
      " $ Abstract.Title: Factor w/ 93 levels \"A Coauthorship Network of the International Political Science Community\",..: 13 58 91 69 66 78 3 18 2 4 ...\n",
      " $ Authors       : Factor w/ 93 levels \"Aksehirli, Zeynep\",..: 9 62 68 5 78 25 80 76 23 84 ...\n",
      " $ Institutions  : Factor w/ 92 levels \"1Centre d'Ecologie Fonctionelle et Evolutive / CNRS, Ecologie Evolutive, Montpellier, France, 2German Primate C\"| __truncated__,..: 85 18 70 68 87 59 19 50 21 17 ...\n",
      " $ Country       : Factor w/ 24 levels \"Australia\",\"Austria\",..: 24 23 13 5 23 8 5 8 9 14 ...\n",
      "'data.frame':\t2813 obs. of  3 variables:\n",
      " $ ID     : num  2 2 2 5 6 6 6 6 7 7 ...\n",
      " $ Type   : Factor w/ 2 levels \"Paper\",\"Poster\": 1 1 1 1 1 1 1 1 1 1 ...\n",
      " $ Keyword: Factor w/ 100 levels \"2-Mode Networks\",..: 52 70 85 32 52 62 67 85 12 26 ...\n",
      "'data.frame':\t749 obs. of  4 variables:\n",
      " $ ID          : num  2 5 6 7 8 9 11 15 16 17 ...\n",
      " $ Type        : Factor w/ 2 levels \"Paper\",\"Poster\": 1 1 1 1 1 1 2 1 2 1 ...\n",
      " $ Authors     : Factor w/ 748 levels \"Ã–ztaÅŸ, Nail[1], Kesgin, Selman S.[2]\",..: 339 684 344 566 154 321 73 306 438 683 ...\n",
      " $ Institutions: Factor w/ 701 levels \"[1]Aarhus University, Aarhus,Denmark, [2]RutgersBusiness School, Newark, NJ, United States, [3]Grenoble Ecole d\"| __truncated__,..: 563 523 586 471 258 655 618 556 118 295 ...\n",
      "'data.frame':\t1663 obs. of  2 variables:\n",
      " $ Name        : Factor w/ 1351 levels \"Ã–ztas, Nail\",..: 3 4 6 7 8 9 9 9 10 11 ...\n",
      " $ Session.Code: Factor w/ 130 levels \"fr-am-1/Lecture Hall A\",..: 39 125 81 105 32 21 57 129 82 117 ...\n",
      "'data.frame':\t749 obs. of  3 variables:\n",
      " $ ID      : num  2 5 6 7 8 9 11 15 16 17 ...\n",
      " $ Type    : Factor w/ 2 levels \"Paper\",\"Poster\": 1 1 1 1 1 1 2 1 2 1 ...\n",
      " $ Abstract: Factor w/ 749 levels \" Detecting and validating the presence of group and community structure is of primary importance in social netw\"| __truncated__,..: 265 194 183 684 633 676 71 571 329 634 ...\n",
      "'data.frame':\t127 obs. of  7 variables:\n",
      " $ Session.Code : Factor w/ 127 levels \"fr-am-1/Lecture Hall A\",..: 111 112 113 114 115 116 117 118 119 120 ...\n",
      " $ Session.Title: Factor w/ 127 levels \"2-Mode Networks: Culture & Health\",..: 85 53 42 27 118 8 4 18 12 91 ...\n",
      " $ Day          : num  1 1 1 1 1 1 1 1 1 1 ...\n",
      " $ Weekday      : Factor w/ 5 levels \"Friday\",\"Saturday\",..: 5 5 5 5 5 5 5 5 5 5 ...\n",
      " $ Slot         : Factor w/ 16 levels \"fr-am-1\",\"fr-am-2\",..: 15 15 15 15 15 15 15 15 16 16 ...\n",
      " $ Room         : Factor w/ 9 levels \"Lecture Hall A\",..: 1 3 4 5 6 7 8 9 1 2 ...\n",
      " $ Organizer.s. : Factor w/ 39 levels \"Ã–rjan Bodin\",..: 26 27 NA NA 3 NA NA NA NA 17 ...\n",
      "'data.frame':\t127 obs. of  5 variables:\n",
      " $ Slot.Nr : num  1 2 3 4 5 6 7 8 9 10 ...\n",
      " $ Day     : num  1 1 2 2 2 2 3 3 3 3 ...\n",
      " $ Weekday : Factor w/ 5 levels \"Friday\",\"Saturday\",..: 5 5 4 4 4 4 1 1 1 1 ...\n",
      " $ Slot    : Factor w/ 16 levels \"fr-am-1\",\"fr-am-2\",..: 15 16 11 12 13 14 1 2 3 4 ...\n",
      " $ Day.Time: Factor w/ 16 levels \"Friday, early afternoon, 1:30 pm â\\200“ 3:30 pm\",..: 15 16 12 14 11 13 2 4 1 3 ...\n",
      "'data.frame':\t84 obs. of  5 variables:\n",
      " $ Day    : num  1 1 1 1 1 1 1 1 1 1 ...\n",
      " $ Weekday: Factor w/ 5 levels \"Friday\",\"Saturday\",..: 5 5 5 5 5 5 5 5 5 5 ...\n",
      " $ Slot   : Factor w/ 16 levels \"fr-am-1\",\"fr-am-2\",..: 15 15 15 15 15 15 16 16 16 16 ...\n",
      " $ Talk.Nr: num  1 2 3 4 5 6 1 2 3 4 ...\n",
      " $ Time   : POSIXct, format: \"1899-12-30 02:00:00\" \"1899-12-30 02:20:00\" ...\n"
     ]
    }
   ],
   "source": [
    "# show data summary\n",
    "for(i in 1:9){\n",
    "    str(sunbelt[[i]])\n",
    "}"
   ]
  },
  {
   "cell_type": "markdown",
   "metadata": {},
   "source": [
    "먼저 sunbelt 내에 있는 데이터를 모두 불러 들이고, 변수를 생성했을 때 NA..로 잡히는 부분을 제거 하였습니다. 일반화된 방식으로 적용하는 게 편할 것 같습니다. \n",
    "\n",
    "해당 데이터를 살펴보니\n",
    "\n",
    "1. Paper Presentation와 관련한 부분인데, ID, Abstract Title, country, Session Title, Session Code, Talk Nr를 바로 사용 할 수 있을 것 같고\n",
    "2. Poster Presentation에서는 ID, Abstract Title, Country를 바로 사용 할 수 있으며\n",
    "    + 다만 Poster Presentation의 경우 Author들의 직접적인 interaction이 있다고 생각하기 어렵기 때문에 network를 구성하는데 있어서 제외할 예정입니다. \n",
    "3. Keywords에서는 ID, Type, Keywords를 통하여 Keywords 간의 네트워크를 구성 할 수 있으며\n",
    "    + 데이터 타입 자체가 DL을 하고 있습니다 (UCINET)\n",
    "        + 이 부분에서는 Paper와 Poster 모두를 고려하여 네트워크를 구성 할 수도 있고\n",
    "        + Paper only Network / Poster only Network 등으로 구성하여 네트워크를 구성 할 수 있습니다. \n",
    "4. Institution에서는 Authors와 Institutions을 특정한 구분점을 찾은 뒤 나누어야 할 것 같습니다 (Coauthor 등에 대한 부분 고려 필요)\n",
    "    + 추후에 생각을 해 볼 문제입니다. \n",
    "5. Index는 Author가 어떠한 Session에 참여했는지를 나타내는 것으로써 참가자들의 전체 네트워크를 구성 할 수 있습니다.\n",
    "    + Session Code에서 Poster를 제외한 이들은 interaction이 있다는 quasi-network로써 bipartite network를 구성 할 수 있을 것 같습니다. \n",
    "6. Abstract는 개별 Paper들의 Abstract입니다. Abstract 자체에 대한 NLP 분석 및 Key words와 매칭을 한 분석을 할 수 있을 것 같습니다.\n",
    "    + 특히 Abstract를 통하여 핵심이 되는 단어를 구성 할 수 있거나 혹은 Key words의 조합을 통하여 dictionary를 구성한 뒤에 이에 해당하는 단어들과의 매칭 여부를 살펴 볼 수도 있을 것 같습니다. \n",
    "7. Session은 Session Code와 관련한 detail한 정보로써 timeline을 구성할 수 있습니다. (time analysis)\n",
    "    + 본 분석에서는 Session을 day 기준으로만 나누도록 할 예정입니다. \n",
    "8. Time Slot은 Session 별 시간대를 구성함으로써 더욱 detail한 timeline을 구성 할 수 있습니다. \n",
    "9. Presentation Times는 개별 Presentation에서 Talk Nr과 매칭을 하여 어떠한 사람이 언제 몇 번째로 발표를 하였는지 알 수 있는 정보를 담고 있습니다.\n",
    "\n",
    "\n",
    "**이상의 정보를 통하여 구해 낼 수 있는 네트워크 자료는**\n",
    "\n",
    "1. Author들 간의 Network (t = Day1, Day2, Day3, Day4)\n",
    "    + Panel 구성 \n",
    "    + Author의 centrality; Network에 대한 다양한 구조 수준의 분석\n",
    "2. Author들의 Attribution (Institutions, Key words Vector를 통한 연구 관심사) - 다만 split하는데 시간이 걸릴 수 있음\n",
    "    + 특히 Institutions까지 구분을 할 수 있으면 (1) Author, (2) Institutions, (3) Key words, (4) Abstract, (5) Sessions 를 바탕으로 Institutions에 대한 분석을 할 수 있을 것 같습니다. - 예컨대, 어떠한 Institutions이 어떠한 social networks 이론을 많이 연구하는가 등 \n",
    "3. Keywords의 Network (time series로 구분을 하는 것이 의미가 있을지 모르겠음) & Keywords를 기반으로 한 network theory와 관련한 dictionary 구성\n",
    "4. Abstract 내용에 대한 text analysis\n",
    "\n",
    "정도가 있습니다. \n",
    "\n",
    "다만 이 자료에서는 tie formation 등과 같은 부분은 할 수 없을 것 같습니다. 뿐만 아니라, 기본적으로 같은 session에 할당되는 actor들의 경우는 비교적 같은 내용을 바탕으로 paper를 작성하였기 때문에 (Session 별로 대주제가 있으며, 이와 관련한 소주제는 Key words로 구성될 것입니다) 이 점을 고려해야 할 것 같습니다.  \n",
    "\n",
    "***\n",
    "정리를 하면, \n",
    "\n",
    "1. Author's Network (using sunbelt[[5]], sunbelt[[7]], & sunbelt[[8]] dataset)\n",
    "    - Panel Data\n",
    "    - Author's Specified Interests\n",
    "    - Author's Structural Positions - more centralized, his or her research topic would be more generalized one\n",
    "    - Network Through Same Institutions\n",
    "    - Network Through Same Sessions\n",
    "2. Key Words Network (using sunbelt[[1]]$Title, sunbelt[[3]], sunbelt[[6]] dataset)\n",
    "    - What is the topic most centralized in Sunbelt 2013\n",
    "    - Key Words Vector\n",
    "    - Abstract NLP analysis\n",
    "\n",
    "If split Author/Institutions, (1) author-institution bipartite network, (2) author-keywords bipartite network (based on paper), (3) institution-keyword bipartite network, (4) institution-session bipartite network can be calculated \n",
    "\n",
    "\n",
    "따라서 이를 바탕으로 네트워크를 먼저 구성하도록 하겠습니다."
   ]
  },
  {
   "cell_type": "code",
   "execution_count": 5,
   "metadata": {},
   "outputs": [
    {
     "data": {
      "text/html": [
       "<table>\n",
       "<thead><tr><th scope=col>Session.Code</th><th scope=col>Session.Title</th><th scope=col>Day</th><th scope=col>Weekday</th><th scope=col>Slot</th><th scope=col>Room</th><th scope=col>Organizer.s.</th></tr></thead>\n",
       "<tbody>\n",
       "\t<tr><td>we-pm-1/Lecture Hall A         </td><td>Multi-level Networks Analysis 1</td><td>1                              </td><td>Wednesday                      </td><td>we-pm-1                        </td><td>Lecture Hall A                 </td><td>Mark Tranmer/ Johan Koskinen   </td></tr>\n",
       "\t<tr><td>we-pm-1/Lecture Hall C         </td><td>Historical Network Research 1  </td><td>1                              </td><td>Wednesday                      </td><td>we-pm-1                        </td><td>Lecture Hall C                 </td><td>Marten DÃ¼ring/ Martin Stark   </td></tr>\n",
       "\t<tr><td>we-pm-1/Lecture Hall H         </td><td>Friendship networks 1          </td><td>1                              </td><td>Wednesday                      </td><td>we-pm-1                        </td><td>Lecture Hall H                 </td><td>NA                             </td></tr>\n",
       "</tbody>\n",
       "</table>\n"
      ],
      "text/latex": [
       "\\begin{tabular}{r|lllllll}\n",
       " Session.Code & Session.Title & Day & Weekday & Slot & Room & Organizer.s.\\\\\n",
       "\\hline\n",
       "\t we-pm-1/Lecture Hall A          & Multi-level Networks Analysis 1 & 1                               & Wednesday                       & we-pm-1                         & Lecture Hall A                  & Mark Tranmer/ Johan Koskinen   \\\\\n",
       "\t we-pm-1/Lecture Hall C          & Historical Network Research 1   & 1                               & Wednesday                       & we-pm-1                         & Lecture Hall C                  & Marten DÃ¼ring/ Martin Stark   \\\\\n",
       "\t we-pm-1/Lecture Hall H          & Friendship networks 1           & 1                               & Wednesday                       & we-pm-1                         & Lecture Hall H                  & NA                             \\\\\n",
       "\\end{tabular}\n"
      ],
      "text/markdown": [
       "\n",
       "Session.Code | Session.Title | Day | Weekday | Slot | Room | Organizer.s. | \n",
       "|---|---|---|\n",
       "| we-pm-1/Lecture Hall A          | Multi-level Networks Analysis 1 | 1                               | Wednesday                       | we-pm-1                         | Lecture Hall A                  | Mark Tranmer/ Johan Koskinen    | \n",
       "| we-pm-1/Lecture Hall C          | Historical Network Research 1   | 1                               | Wednesday                       | we-pm-1                         | Lecture Hall C                  | Marten DÃ¼ring/ Martin Stark    | \n",
       "| we-pm-1/Lecture Hall H          | Friendship networks 1           | 1                               | Wednesday                       | we-pm-1                         | Lecture Hall H                  | NA                              | \n",
       "\n",
       "\n"
      ],
      "text/plain": [
       "  Session.Code           Session.Title                   Day Weekday   Slot   \n",
       "1 we-pm-1/Lecture Hall A Multi-level Networks Analysis 1 1   Wednesday we-pm-1\n",
       "2 we-pm-1/Lecture Hall C Historical Network Research 1   1   Wednesday we-pm-1\n",
       "3 we-pm-1/Lecture Hall H Friendship networks 1           1   Wednesday we-pm-1\n",
       "  Room           Organizer.s.                \n",
       "1 Lecture Hall A Mark Tranmer/ Johan Koskinen\n",
       "2 Lecture Hall C Marten DÃ¼ring/ Martin Stark\n",
       "3 Lecture Hall H NA                          "
      ]
     },
     "metadata": {},
     "output_type": "display_data"
    },
    {
     "data": {
      "text/html": [
       "<table>\n",
       "<thead><tr><th scope=col>Name</th><th scope=col>Session.Code</th></tr></thead>\n",
       "<tbody>\n",
       "\t<tr><td>Aalbers, Rick         </td><td>sa-am-1/Lecture Hall H</td></tr>\n",
       "\t<tr><td>Aartsen, Marja        </td><td>we-pm-2/Lecture Hall H</td></tr>\n",
       "\t<tr><td>Abbate, Angela        </td><td>th-am-1/Lecture Hall C</td></tr>\n",
       "</tbody>\n",
       "</table>\n"
      ],
      "text/latex": [
       "\\begin{tabular}{r|ll}\n",
       " Name & Session.Code\\\\\n",
       "\\hline\n",
       "\t Aalbers, Rick          & sa-am-1/Lecture Hall H\\\\\n",
       "\t Aartsen, Marja         & we-pm-2/Lecture Hall H\\\\\n",
       "\t Abbate, Angela         & th-am-1/Lecture Hall C\\\\\n",
       "\\end{tabular}\n"
      ],
      "text/markdown": [
       "\n",
       "Name | Session.Code | \n",
       "|---|---|---|\n",
       "| Aalbers, Rick          | sa-am-1/Lecture Hall H | \n",
       "| Aartsen, Marja         | we-pm-2/Lecture Hall H | \n",
       "| Abbate, Angela         | th-am-1/Lecture Hall C | \n",
       "\n",
       "\n"
      ],
      "text/plain": [
       "  Name           Session.Code          \n",
       "1 Aalbers, Rick  sa-am-1/Lecture Hall H\n",
       "2 Aartsen, Marja we-pm-2/Lecture Hall H\n",
       "3 Abbate, Angela th-am-1/Lecture Hall C"
      ]
     },
     "metadata": {},
     "output_type": "display_data"
    }
   ],
   "source": [
    "# author-session network\n",
    "head(sunbelt[[7]],3)\n",
    "head(sunbelt[[5]],3)\n",
    "\n",
    "# from the dataset, merge sunbelt[[7]] & sunbelt[[5]] with session.code as key-value"
   ]
  },
  {
   "cell_type": "code",
   "execution_count": 6,
   "metadata": {},
   "outputs": [
    {
     "data": {
      "text/html": [
       "<table>\n",
       "<thead><tr><th scope=col>Session.Code</th><th scope=col>Name</th><th scope=col>Session.Title</th><th scope=col>Day</th><th scope=col>Weekday</th><th scope=col>Slot</th><th scope=col>Room</th><th scope=col>Organizer.s.</th></tr></thead>\n",
       "<tbody>\n",
       "\t<tr><td>fr-am-1/Lecture Hall A  </td><td>Fischbach, Kai          </td><td>Online Social Networks 2</td><td>3                       </td><td>Friday                  </td><td>fr-am-1                 </td><td>Lecture Hall A          </td><td>NA                      </td></tr>\n",
       "\t<tr><td>fr-am-1/Lecture Hall A  </td><td>Donath, Martin          </td><td>Online Social Networks 2</td><td>3                       </td><td>Friday                  </td><td>fr-am-1                 </td><td>Lecture Hall A          </td><td>NA                      </td></tr>\n",
       "\t<tr><td>fr-am-1/Lecture Hall A  </td><td>Hillmann, Robert        </td><td>Online Social Networks 2</td><td>3                       </td><td>Friday                  </td><td>fr-am-1                 </td><td>Lecture Hall A          </td><td>NA                      </td></tr>\n",
       "</tbody>\n",
       "</table>\n"
      ],
      "text/latex": [
       "\\begin{tabular}{r|llllllll}\n",
       " Session.Code & Name & Session.Title & Day & Weekday & Slot & Room & Organizer.s.\\\\\n",
       "\\hline\n",
       "\t fr-am-1/Lecture Hall A   & Fischbach, Kai           & Online Social Networks 2 & 3                        & Friday                   & fr-am-1                  & Lecture Hall A           & NA                      \\\\\n",
       "\t fr-am-1/Lecture Hall A   & Donath, Martin           & Online Social Networks 2 & 3                        & Friday                   & fr-am-1                  & Lecture Hall A           & NA                      \\\\\n",
       "\t fr-am-1/Lecture Hall A   & Hillmann, Robert         & Online Social Networks 2 & 3                        & Friday                   & fr-am-1                  & Lecture Hall A           & NA                      \\\\\n",
       "\\end{tabular}\n"
      ],
      "text/markdown": [
       "\n",
       "Session.Code | Name | Session.Title | Day | Weekday | Slot | Room | Organizer.s. | \n",
       "|---|---|---|\n",
       "| fr-am-1/Lecture Hall A   | Fischbach, Kai           | Online Social Networks 2 | 3                        | Friday                   | fr-am-1                  | Lecture Hall A           | NA                       | \n",
       "| fr-am-1/Lecture Hall A   | Donath, Martin           | Online Social Networks 2 | 3                        | Friday                   | fr-am-1                  | Lecture Hall A           | NA                       | \n",
       "| fr-am-1/Lecture Hall A   | Hillmann, Robert         | Online Social Networks 2 | 3                        | Friday                   | fr-am-1                  | Lecture Hall A           | NA                       | \n",
       "\n",
       "\n"
      ],
      "text/plain": [
       "  Session.Code           Name             Session.Title            Day Weekday\n",
       "1 fr-am-1/Lecture Hall A Fischbach, Kai   Online Social Networks 2 3   Friday \n",
       "2 fr-am-1/Lecture Hall A Donath, Martin   Online Social Networks 2 3   Friday \n",
       "3 fr-am-1/Lecture Hall A Hillmann, Robert Online Social Networks 2 3   Friday \n",
       "  Slot    Room           Organizer.s.\n",
       "1 fr-am-1 Lecture Hall A NA          \n",
       "2 fr-am-1 Lecture Hall A NA          \n",
       "3 fr-am-1 Lecture Hall A NA          "
      ]
     },
     "metadata": {},
     "output_type": "display_data"
    }
   ],
   "source": [
    "aut.nt <- merge(x=sunbelt[[5]],y=sunbelt[[7]],by='Session.Code', all.x = TRUE)\n",
    "head(aut.nt,3)"
   ]
  },
  {
   "cell_type": "markdown",
   "metadata": {},
   "source": [
    "sunbelt[[5]]와 sunbelt[[7]]을 merge합니다. 5를 기준으로 7을 합치는 방향으로 진행을 합니다. "
   ]
  },
  {
   "cell_type": "code",
   "execution_count": 7,
   "metadata": {},
   "outputs": [
    {
     "name": "stdout",
     "output_type": "stream",
     "text": [
      "[1]  3 NA  4  5  2  1\n"
     ]
    },
    {
     "data": {
      "text/html": [
       "<table>\n",
       "<thead><tr><th></th><th scope=col>Session.Code</th><th scope=col>Name</th><th scope=col>Session.Title</th><th scope=col>Day</th><th scope=col>Weekday</th><th scope=col>Slot</th><th scope=col>Room</th><th scope=col>Organizer.s.</th></tr></thead>\n",
       "<tbody>\n",
       "\t<tr><th scope=row>633</th><td>Poster                </td><td>Schoder, Detlef       </td><td>NA                    </td><td>NA                    </td><td>NA                    </td><td>NA                    </td><td>NA                    </td><td>NA                    </td></tr>\n",
       "\t<tr><th scope=row>634</th><td>Poster                </td><td>Hua, Jenna            </td><td>NA                    </td><td>NA                    </td><td>NA                    </td><td>NA                    </td><td>NA                    </td><td>NA                    </td></tr>\n",
       "\t<tr><th scope=row>635</th><td>Poster                </td><td>Coromina, Lluis       </td><td>NA                    </td><td>NA                    </td><td>NA                    </td><td>NA                    </td><td>NA                    </td><td>NA                    </td></tr>\n",
       "\t<tr><th scope=row>983</th><td>Sat-5pm/Lecture Hall A</td><td>Schaefer, David       </td><td>NA                    </td><td>NA                    </td><td>NA                    </td><td>NA                    </td><td>NA                    </td><td>NA                    </td></tr>\n",
       "\t<tr><th scope=row>1450</th><td>Th 5pm/Lecture Hall A </td><td>Padgett, John F.      </td><td>NA                    </td><td>NA                    </td><td>NA                    </td><td>NA                    </td><td>NA                    </td><td>NA                    </td></tr>\n",
       "</tbody>\n",
       "</table>\n"
      ],
      "text/latex": [
       "\\begin{tabular}{r|llllllll}\n",
       "  & Session.Code & Name & Session.Title & Day & Weekday & Slot & Room & Organizer.s.\\\\\n",
       "\\hline\n",
       "\t633 & Poster                 & Schoder, Detlef        & NA                     & NA                     & NA                     & NA                     & NA                     & NA                    \\\\\n",
       "\t634 & Poster                 & Hua, Jenna             & NA                     & NA                     & NA                     & NA                     & NA                     & NA                    \\\\\n",
       "\t635 & Poster                 & Coromina, Lluis        & NA                     & NA                     & NA                     & NA                     & NA                     & NA                    \\\\\n",
       "\t983 & Sat-5pm/Lecture Hall A & Schaefer, David        & NA                     & NA                     & NA                     & NA                     & NA                     & NA                    \\\\\n",
       "\t1450 & Th 5pm/Lecture Hall A  & Padgett, John F.       & NA                     & NA                     & NA                     & NA                     & NA                     & NA                    \\\\\n",
       "\\end{tabular}\n"
      ],
      "text/markdown": [
       "\n",
       "| <!--/--> | Session.Code | Name | Session.Title | Day | Weekday | Slot | Room | Organizer.s. | \n",
       "|---|---|---|---|---|\n",
       "| 633 | Poster                 | Schoder, Detlef        | NA                     | NA                     | NA                     | NA                     | NA                     | NA                     | \n",
       "| 634 | Poster                 | Hua, Jenna             | NA                     | NA                     | NA                     | NA                     | NA                     | NA                     | \n",
       "| 635 | Poster                 | Coromina, Lluis        | NA                     | NA                     | NA                     | NA                     | NA                     | NA                     | \n",
       "| 983 | Sat-5pm/Lecture Hall A | Schaefer, David        | NA                     | NA                     | NA                     | NA                     | NA                     | NA                     | \n",
       "| 1450 | Th 5pm/Lecture Hall A  | Padgett, John F.       | NA                     | NA                     | NA                     | NA                     | NA                     | NA                     | \n",
       "\n",
       "\n"
      ],
      "text/plain": [
       "     Session.Code           Name             Session.Title Day Weekday Slot\n",
       "633  Poster                 Schoder, Detlef  NA            NA  NA      NA  \n",
       "634  Poster                 Hua, Jenna       NA            NA  NA      NA  \n",
       "635  Poster                 Coromina, Lluis  NA            NA  NA      NA  \n",
       "983  Sat-5pm/Lecture Hall A Schaefer, David  NA            NA  NA      NA  \n",
       "1450 Th 5pm/Lecture Hall A  Padgett, John F. NA            NA  NA      NA  \n",
       "     Room Organizer.s.\n",
       "633  NA   NA          \n",
       "634  NA   NA          \n",
       "635  NA   NA          \n",
       "983  NA   NA          \n",
       "1450 NA   NA          "
      ]
     },
     "metadata": {},
     "output_type": "display_data"
    }
   ],
   "source": [
    "# make network data based on Day (Author / Slot / Day (=t))\n",
    "print(unique(aut.nt$Day))\n",
    "\n",
    "tail(subset(aut.nt, is.na(aut.nt$Day)),5)"
   ]
  },
  {
   "cell_type": "markdown",
   "metadata": {},
   "source": [
    "Day를 합친 결과 1~5일과 NA가 반환이 되었습니다. NA는 Poster로 예상을 했고 (5는 author만을 담고 있으며, Poster의 경우에는 별도로 지정된 time.slot이 없기 때문입니다), 확인 결과 대다수는 Poster이지만, 두 건 (983과 1450 row)의 경우 Session.Code가 오탈자인 것 같습니다.\n",
    "그러나 sunbelt[[8]]의 내용을 확인해보니, 983과 1450의 경우는 별도로 할당이 된 세션인 것 같습니다. 이들의 경우는 해당 세션에서 단독으로 발표를 하였다고 볼 수 있으며 이는 네트워크 변수를 구성하는데 필요가 없기 때문에 Poster Session과 함께 모두 제외하도록 하겠습니다."
   ]
  },
  {
   "cell_type": "code",
   "execution_count": 80,
   "metadata": {},
   "outputs": [],
   "source": [
    "aut.nt <- na.omit(aut.nt) # eliminate all missing values in Day column\n",
    "\n",
    "# based on the variable (author / Session.code / Day), calculate daily matrix\n",
    "for(i in NROW(unique(aut.nt$Day))){\n",
    "  tmp <- subset(aut.nt, aut.nt$Day==i)\n",
    "\n",
    "  bipart <- spMatrix(length(unique(tmp$Name)),\n",
    "                     length(unique(tmp$Session.Code)),\n",
    "                     a <- as.numeric(factor(tmp$Name)),\n",
    "                     b <- as.numeric(factor(tmp$Session.Code)),\n",
    "                     x = rep(1,length(as.numeric(tmp$Name))))\n",
    "  \n",
    "  row.names(bipart) <- levels(factor(tmp$Name))\n",
    "  colnames(bipart) <- levels(factor(tmp$Session.Code))\n",
    "  \n",
    "  bipart <- as.matrix(bipart) # basic format of incidence data set\n",
    "  \n",
    "  bn <- graph.incidence(bipart)\n",
    "  bn.pr <- bipartite.projection(bn)\n",
    "  adj <- get.adjacency(bn.pr$proj1,sparse=FALSE,att=\"weight\")\n",
    "  \n",
    "  graph <- graph_from_adjacency_matrix(adj,weighted=\"NULL\",mode=\"undirected\",diag=FALSE)\n",
    "  \n",
    "}"
   ]
  },
  {
   "cell_type": "markdown",
   "metadata": {},
   "source": [
    "이제 본격적으로 data를 통하여 네트워크를 구성하도록 하겠습니다.\n",
    "\n",
    "공통의 Session에 참여한 Author들을 tie가 있다고 생각하면 다음과 같은 타입의 데이터를 생각 할 수 있습니다.\n",
    "\n",
    "|        | event1 | event2 |\n",
    "|--------|--------|--------|\n",
    "| actor1 | 1      | 0      |\n",
    "| actor2 | 0      | 1      |\n",
    "| actor3 | 1      | 1      |\n",
    "\n",
    "actor가 다양하게 존재하는 event에 참여를 할 때마다 해당 event에 1이 코딩되고, 그렇지 않을 경우 0이 코딩됩니다. 즉, X = {actor1, actor2, actor3}와 Y = {event1, event2}라는 두 영역(domain)간의 대응 관계로 이해를 할 수 있습니다. 이렇게 actor (X)와 event (Y) 집합을 연결하는 변들의 꼭지점 모두가 actor와 event 집합에 속하고 있을 때, bipartite graph, 즉 이분-그래프라고 부릅니다. 현재는 actor / event라는 두 개의 집합을 바탕으로 bipartite graph를 구성하였지만, n개의 집합이 존재하고 이들의 분할된 집합들을 어떠한 변들이 모두 연결하고 있다면 이는 곧 n-partite graph라고 부를 수 있습니다. \n",
    "\n",
    "사실 아직까지 tripartite graph 이상의 형태를 바탕으로 분석을 한 경영학/사회학 연구는 찾아보지 못했습니다 (찾아보면 어딘가에는 있겠지만..) 어쨌든, 이러한 bipartite graph는 그 자체로도 의미가 있습니다. 현재는 actor가 event에 참석을 하는 상황이기 때문에 actor들이 event에 동시에 참석했을 때 그들의 research에 대한 토론을 나누거나 한다는 사회학적으로 유의미한 교환 관계를 형성 할 수 있다고 생각 할 수 있습니다. 따라서 이러한 incidence를 바탕으로 actor들은 quasi-network를 형성한다고 생각 할 수 있고, 그러한 이유에서 actor 간에 social network를 형성한다고 생각 할 수 있습니다. \n",
    "\n",
    "많은 사회분야 연구에서는 bipartite graph 내의 row 혹은 column에 위치한 이들 만이 유의미한 사회학적 관계망을 형성하는 상황만을 상정하고 있습니다. 그러나 bipartite graph의 장점은 서로 다른 영역에 위치하고 있지만, 상호 작용을 하게 되는 경우를 네트워크로 포착 할 수 있다는 점입니다. 다시 말하여, bipartite graph를 통해서 서로 다른 level의 observation을 하나의 네트워크로 구성 할 수 있고 이에 대한 전반적인 구조 분석을 할 수 있습니다.\n",
    "\n",
    "어쨌거나, 현재 Sunbelt data set의 상황에서는 연구자(actor)들이 발표 session (event)에 참여를 함으로써 연구자 간의 사회 연결 관계를 포착하는 것을 목적으로 합니다. 따라서 제가 위에 작성한 R코드는 다음과 같은 순서로 진행이 됩니다.\n",
    "\n",
    "\n",
    "1. **i in NROW(unique(aut.nt$Day))** : Day의 uniqueness수만큼 loop를 돌립니다. (1 ~ 5일간 Sunbelt가 진행되었기 때문에 5개의 matrix를 구성 할 수 있습니다)\n",
    "\n",
    "2. **tmp <- subset(aut.nt, aut.nt$Day==i)** : Day1 ~ Day5 별로 이에 해당하는 연구자와 event에 대한 데이터를 subset하였습니다.\n",
    "\n",
    "3. **bipart 부터 <- as.matrix(bipart) 부분까지** : 위에서 예시로 든 데이터 타입을 bipartite graph 형태로 변환\n",
    "\n",
    "4. **이후부터 마지막까지** : Luke, Douglas A. (2015)의 A User's Guide to Network Analysis in R의 126 ~ 133 페이지를 참조하며, igraph package를 기반으로 igraph package 상에서 다양한 네트워크 계산 및 시각화를 위한 데이터 타입으로 변환 (bipartite graph -> adjacency matrix -> graph type으로 변환)\n",
    "    + bipartite graph는 앞서 설명했던 내용이며,\n",
    "    + adjacency matrix는 사회 연결망 분석에서 가장 기본이 되는 데이터 n\\*n의 정방 행렬을 의미합니다.\n",
    "    + graph type: igraph package에서 데이터 처리를 할 때 기반이 되는 데이터 타입입니다. \n",
    "\n",
    "---\n",
    "R을 사용하며 statnet, sna, igraph의 패키지를 사용해보았지만, igraph가 보다 대중화되어 있는 패키지 같습니다. 다만 igraph 패키지는 graph라는 list 기반의 독특한 데이터 타입을 구성해냄으로써 계산을 하기 때문에 직관적으로 데이터 구성에 오류가 없는지 알아내기가 쉽지 않다는 단점도 있는 것 같습니다. 보다 자세한 사항은 추후에 R과 관련한 설명에서 igraph 패키지를 다룰 때 적도록 하겠습니다. "
   ]
  },
  {
   "cell_type": "code",
   "execution_count": 91,
   "metadata": {},
   "outputs": [
    {
     "data": {
      "image/png": "[encoded data removed]",
      "text/plain": [
       "Plot with title \"\""
      ]
     },
     "metadata": {},
     "output_type": "display_data"
    }
   ],
   "source": [
    "plot(graph, \n",
    "     vertex.label=NA, \n",
    "     vertex.size=5, \n",
    "     vertex.label.dist=100, \n",
    "     width=10)"
   ]
  },
  {
   "cell_type": "markdown",
   "metadata": {},
   "source": [
    "이후 graph라는 기본 단위를 통하여 5일째가 되었을 때 네트워크 상황을 그림으로 그렸습니다. adjacency matrix의 모습이 어땠는지 살펴보지 않았지만, Sunbelt 2013의 5일차에는 모든 author들이 여러 session에 참여하지는 않은 것 같습니다. 그렇기 때문에 같은 session에 참여했던 사람들끼리만 연결 component를 형성하고 있다고 나옵니다. \n",
    "\n",
    "**아무래도 시차를 주면서 네트워크를 보는 것은 무의미하다는 판단이 들었습니다**\n",
    "혹은 time-window를 설정하여 네트워크를 볼 수도 있겠지만 이 역시 크게 무의미 할 것 같습니다. "
   ]
  },
  {
   "cell_type": "code",
   "execution_count": 94,
   "metadata": {},
   "outputs": [],
   "source": [
    "  bipart <- spMatrix(length(unique(aut.nt$Name)),\n",
    "                     length(unique(aut.nt$Session.Code)),\n",
    "                     a <- as.numeric(factor(aut.nt$Name)),\n",
    "                     b <- as.numeric(factor(aut.nt$Session.Code)),\n",
    "                     x = rep(1,length(as.numeric(aut.nt$Name))))\n",
    "  \n",
    "  row.names(bipart) <- levels(factor(aut.nt$Name))\n",
    "  colnames(bipart) <- levels(factor(aut.nt$Session.Code))\n",
    "  \n",
    "  bipart <- as.matrix(bipart) # basic format of incidence data set\n",
    "  \n",
    "  bn <- graph.incidence(bipart)\n",
    "  bn.pr <- bipartite.projection(bn)\n",
    "  adj <- get.adjacency(bn.pr$proj1,sparse=FALSE,att=\"weight\")\n",
    "  \n",
    "  graph <- graph_from_adjacency_matrix(adj,weighted=\"NULL\",mode=\"undirected\",diag=FALSE)\n"
   ]
  },
  {
   "cell_type": "code",
   "execution_count": 95,
   "metadata": {},
   "outputs": [
    {
     "data": {
      "image/png": "[encoded data removed]",
      "text/plain": [
       "Plot with title \"\""
      ]
     },
     "metadata": {},
     "output_type": "display_data"
    }
   ],
   "source": [
    "plot(graph, \n",
    "     vertex.label = NA, \n",
    "     vertex.size=5, \n",
    "     vertex.label.dist=1, \n",
    "     width=10)"
   ]
  },
  {
   "cell_type": "markdown",
   "metadata": {},
   "source": [
    "Sunbelt 2013의 전체 event의 네트워크 입니다. (actor (vertex)의 이름을 넣을 경우 그림이 이름에 가려져 생략하였습니다) \n",
    "\n",
    "생각보다 Sunbelt 2013에서 학자들은 긴밀한 연결을 하는 것처럼 보이지 않네요. \n",
    "\n",
    "이제 저는 다음과 같은 상황이 궁금해졌습니다. \n",
    "\n",
    "\n",
    "**\"가장 긴밀하게 연결되어 있는 component에서는 어떠한 주제가 가장 많이 언급될까? (Keywords 기반)\"**\n",
    "\n",
    "직관적으로 생각해 볼 수 있는 상황은 다음과 같습니다.\n",
    "\n",
    "1. 유명한 학자들을 중심으로 네트워크가 형성되는 경우\n",
    "    + 이러한 상황은 Session의 공동 참여에 따라 네트워크가 형성된다는 측면에서 과연 맞을까 하는 의문이 들기도 합니다.\n",
    "    \n",
    "2. 가장 당시 Hot한 주제로 연구를 하는 사람들을 중심으로 네트워크가 형성되는 경우\n",
    "    + 아무래도 개별 session들은 특정한 topic을 중심으로 모인 사람들입니다. 그러나 어떠한 연구자가 다양한 session에 참여를 했다는 것은 각각의 topic이 상호적으로 연관성을 띄고 있는 경우와\n",
    "    + 해당 연구자가 다양한 topic에 관심을 갖고 여러 연구를 하고 있는 경우라고 볼 수 있습니다. \n",
    "    \n",
    "    \n",
    "저는 2번 상황을 보다 구체적으로 파악하기 위하여 연구자들이 자신의 연구에 붙여 놓았던 Keywords를 바탕으로 Research ID - Session - Author - Keywords 네트워크를 그려볼 예정입니다. 방금 그렸던 Author - Session의 Bipartite Network 보다 다양한 그림이 나올 것 같습니다.\n",
    "\n",
    "Author를 기준으로 Network를 그릴 수 있고, Key words를 기준으로도 Network를 그릴 수 있기 때문입니다. \n",
    "\n",
    "\n",
    "---\n",
    "다음 번에 분석 할 순서는 아래와 같습니다.\n",
    "\n",
    "1. ID (발표 paper ID)와 Keywords간의 bipartite graph를 형성하여 Keywords 간의 네트워크를 그릴 예정입니다.\n",
    "2. ID는 각각 고유한 Session과 결합이 되어 있기 때문에 ID별로 네트워크가 그려집니다. 따라서 Paper 간의 Network를 그릴 수 있습니다. \n",
    "3. 사실 가장 좋은 것은 Paper를 구성하고 있는 author들을 구분 지은 뒤에 author - session - keywords 간의 관계로 연결되는 네트워크를 구성하는 것이지만, 현재 author들이 하나의 데이터 레코드에 들어가 있어서 이들을 구분하는 작업이 선행되어야 하기 때문에 시간이 걸릴 것 같습니다. "
   ]
  },
  {
   "cell_type": "code",
   "execution_count": null,
   "metadata": {},
   "outputs": [],
   "source": []
  }
 ],
 "metadata": {
  "kernelspec": {
   "display_name": "R",
   "language": "R",
   "name": "ir"
  },
  "language_info": {
   "codemirror_mode": "r",
   "file_extension": ".r",
   "mimetype": "text/x-r-source",
   "name": "R",
   "pygments_lexer": "r",
   "version": "3.5.0"
  }
 },
 "nbformat": 4,
 "nbformat_minor": 2
}
